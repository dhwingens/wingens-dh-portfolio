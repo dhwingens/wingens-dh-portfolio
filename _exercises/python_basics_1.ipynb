{
 "cells": [
  {
   "cell_type": "markdown",
   "metadata": {},
   "source": [
    "### Assignment = 2.1-2.7 & 2.10"
   ]
  },
  {
   "cell_type": "code",
   "execution_count": 1,
   "metadata": {},
   "outputs": [
    {
     "name": "stdout",
     "output_type": "stream",
     "text": [
      "Hello, World!\n"
     ]
    }
   ],
   "source": [
    "#2.1\n",
    "\n",
    "message = \"Hello, World!\"\n",
    "print(message)"
   ]
  },
  {
   "cell_type": "code",
   "execution_count": 2,
   "metadata": {},
   "outputs": [
    {
     "name": "stdout",
     "output_type": "stream",
     "text": [
      "Hello, World!\n",
      "Hollow World?\n"
     ]
    }
   ],
   "source": [
    "#2.2\n",
    "message = \"Hello, World!\"\n",
    "print(message)\n",
    "#Change message\n",
    "message = \"Hollow World?\"\n",
    "print(message)"
   ]
  },
  {
   "cell_type": "code",
   "execution_count": 3,
   "metadata": {},
   "outputs": [
    {
     "name": "stdout",
     "output_type": "stream",
     "text": [
      "Hello Kate, how are you doing?\n"
     ]
    }
   ],
   "source": [
    "#2.3\n",
    "name = \"Kate\"\n",
    "print(\"Hello \" + name + \", how are you doing?\")"
   ]
  },
  {
   "cell_type": "code",
   "execution_count": 4,
   "metadata": {},
   "outputs": [
    {
     "name": "stdout",
     "output_type": "stream",
     "text": [
      "daisy\n",
      "DAISY\n",
      "Daisy\n"
     ]
    }
   ],
   "source": [
    "#2.4\n",
    "name = \"Daisy\"\n",
    "print(name.lower()) #lowercase\n",
    "print(name.upper()) #uppercase\n",
    "print(name.title()) #titlecase"
   ]
  },
  {
   "cell_type": "code",
   "execution_count": 5,
   "metadata": {},
   "outputs": [
    {
     "name": "stdout",
     "output_type": "stream",
     "text": [
      "Shakespeare said \"Brevity is the soul of wit\"\n"
     ]
    }
   ],
   "source": [
    "#2.5\n",
    "print('Shakespeare said \"Brevity is the soul of wit\"')"
   ]
  },
  {
   "cell_type": "code",
   "execution_count": 7,
   "metadata": {},
   "outputs": [
    {
     "name": "stdout",
     "output_type": "stream",
     "text": [
      "Shakespeare said \"Brevity is the soul of wit\"\n"
     ]
    }
   ],
   "source": [
    "#2.6\n",
    "famous_person = \"Shakespeare\"\n",
    "message = f'{famous_person} said \"Brevity is the soul of wit\"'\n",
    "print(message)\n"
   ]
  },
  {
   "cell_type": "code",
   "execution_count": 11,
   "metadata": {},
   "outputs": [
    {
     "name": "stdout",
     "output_type": "stream",
     "text": [
      "\tWilliam\t\n",
      "Words\tworth\n",
      "\n",
      "William\t\n",
      "Words\tworth\n",
      "\n",
      "\tWilliam\t\n",
      "Words\tworth\n",
      "William\t\n",
      "Words\tworth\n"
     ]
    }
   ],
   "source": [
    "name = \"\\tWilliam\\t\\nWords\\tworth\\n\"\n",
    "print(name)\n",
    "print(name.lstrip())\n",
    "print(name.rstrip())\n",
    "print(name.strip())\n",
    "\n"
   ]
  }
 ],
 "metadata": {
  "interpreter": {
   "hash": "aee8b7b246df8f9039afb4144a1f6fd8d2ca17a180786b69acc140d282b71a49"
  },
  "kernelspec": {
   "display_name": "Python 3.9.5 64-bit",
   "language": "python",
   "name": "python3"
  },
  "language_info": {
   "codemirror_mode": {
    "name": "ipython",
    "version": 3
   },
   "file_extension": ".py",
   "mimetype": "text/x-python",
   "name": "python",
   "nbconvert_exporter": "python",
   "pygments_lexer": "ipython3",
   "version": "3.9.5"
  },
  "orig_nbformat": 4
 },
 "nbformat": 4,
 "nbformat_minor": 2
}
