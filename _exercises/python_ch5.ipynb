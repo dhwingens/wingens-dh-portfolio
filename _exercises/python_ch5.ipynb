{
 "cells": [
  {
   "cell_type": "code",
   "execution_count": 3,
   "metadata": {},
   "outputs": [
    {
     "name": "stdout",
     "output_type": "stream",
     "text": [
      "is language == 'C'. I predict False\n",
      "False\n",
      "is language == 'python'. I predict True\n",
      "True\n",
      "is language == 'French'. I predict False\n",
      "False\n",
      "is language == 'English'. I predict True\n",
      "True\n",
      "is color == 'Blue'. I predict False\n",
      "False\n",
      "is color == 'Red'. I predict True\n",
      "True\n",
      "is color == 'Green'. I predict False\n",
      "False\n",
      "is color == 'Yellow'. I predict True\n",
      "True\n",
      "is number == 10. I predict False\n",
      "False\n",
      "is number == 8. I predict True\n",
      "True\n"
     ]
    }
   ],
   "source": [
    "#5-1, 5-2, 5-6, 5-7, 5-8, 5-9, 5-10 \n",
    "#5-1\n",
    "language = \"python\"\n",
    "\n",
    "print(\"is language == 'C'. I predict False\")\n",
    "print(language == 'C')\n",
    "\n",
    "print(\"is language == 'python'. I predict True\")\n",
    "print(language == \"python\")\n",
    "\n",
    "language = \"English\"\n",
    "\n",
    "print(\"is language == 'French'. I predict False\")\n",
    "print(language == 'French')\n",
    "\n",
    "print(\"is language == 'English'. I predict True\")\n",
    "print(language == \"English\")\n",
    "\n",
    "color = \"Red\"\n",
    "\n",
    "print(\"is color == 'Blue'. I predict False\")\n",
    "print(color == 'Blue')\n",
    "\n",
    "print(\"is color == 'Red'. I predict True\")\n",
    "print(color == \"Red\")\n",
    "\n",
    "color = \"Yellow\"\n",
    "\n",
    "print(\"is color == 'Green'. I predict False\")\n",
    "print(color == 'Green')\n",
    "\n",
    "print(\"is color == 'Yellow'. I predict True\")\n",
    "print(color == \"Yellow\")\n",
    "\n",
    "number = 8\n",
    "\n",
    "print(\"is number == 10. I predict False\")\n",
    "print(number == '10')\n",
    "\n",
    "print(\"is number == 8. I predict True\")\n",
    "print(number == 8)"
   ]
  },
  {
   "cell_type": "code",
   "execution_count": 11,
   "metadata": {},
   "outputs": [
    {
     "name": "stdout",
     "output_type": "stream",
     "text": [
      "False\n",
      "True\n",
      "True\n",
      "True\n",
      "False\n",
      "True\n",
      "False\n",
      "True\n"
     ]
    }
   ],
   "source": [
    "#5-2\n",
    "\n",
    "fruit = \"apple\"\n",
    "print(fruit == \"Apple\")\n",
    "Fruit = \"Apple\"\n",
    "print(fruit.lower() == Fruit.lower())\n",
    "\n",
    "print(8 < 99)\n",
    "\n",
    "age = 10\n",
    "height = 20\n",
    "\n",
    "print(age < 11 and height >19)\n",
    "print(age < 1 and height >19)\n",
    "print(age < 1 or height >19)\n",
    "\n",
    "things = ['car', 'apple']\n",
    "print('item' in things)\n",
    "print('item' not in things)\n"
   ]
  },
  {
   "cell_type": "code",
   "execution_count": 13,
   "metadata": {},
   "outputs": [
    {
     "name": "stdout",
     "output_type": "stream",
     "text": [
      "You're an adult\n"
     ]
    }
   ],
   "source": [
    "#5-6\n",
    "age = 50\n",
    "\n",
    "if age < 2:\n",
    "    print(\"You're a baby\")\n",
    "elif age < 4:\n",
    "    print(\"You're a toddler\")\n",
    "elif age < 13:\n",
    "    print(\"You're a child\")\n",
    "elif age < 20:\n",
    "    print(\"You're a teenager\")\n",
    "elif age < 65:\n",
    "    print(\"You're an adult\")\n",
    "else:\n",
    "    print(\"You're an elder\")\n",
    "\n"
   ]
  },
  {
   "cell_type": "code",
   "execution_count": 14,
   "metadata": {},
   "outputs": [
    {
     "name": "stdout",
     "output_type": "stream",
     "text": [
      "You really like apples!\n",
      "You really like cherries!\n"
     ]
    }
   ],
   "source": [
    "#5-7\n",
    "favorite_fruits = ['apple', 'orange', 'cherry']\n",
    "\n",
    "if 'apple' in favorite_fruits:\n",
    "    print(\"You really like apples!\")\n",
    "if 'banana' in favorite_fruits:\n",
    "    print(\"You really like bananas!\")\n",
    "if 'cherry' in favorite_fruits:\n",
    "    print(\"You really like cherries!\")\n",
    "if 'melon' in favorite_fruits:\n",
    "    print(\"You really like melons!\")\n",
    "if 'nectarine' in favorite_fruits:\n",
    "    print(\"You really like nectarines!\")"
   ]
  },
  {
   "cell_type": "code",
   "execution_count": 15,
   "metadata": {},
   "outputs": [
    {
     "name": "stdout",
     "output_type": "stream",
     "text": [
      "Hello admin, do you want a status report??\n",
      "Hi dave, thanks for logging in!\n",
      "Hi monkey, thanks for logging in!\n",
      "Hi user3, thanks for logging in!\n",
      "Hi dude, thanks for logging in!\n"
     ]
    }
   ],
   "source": [
    "#5-8\n",
    "users = [\"admin\", \"dave\", \"monkey\", \"user3\", \"dude\"]\n",
    "\n",
    "for user in users:\n",
    "    if user == \"admin\":\n",
    "        print(\"Hello admin, do you want a status report??\")\n",
    "    else:\n",
    "        print(f'Hi {user}, thanks for logging in!')"
   ]
  },
  {
   "cell_type": "code",
   "execution_count": 16,
   "metadata": {},
   "outputs": [
    {
     "name": "stdout",
     "output_type": "stream",
     "text": [
      "we need to find some users\n"
     ]
    }
   ],
   "source": [
    "#5-9\n",
    "users = []\n",
    "if not users: \n",
    "    print(\"we need to find some users\")"
   ]
  },
  {
   "cell_type": "code",
   "execution_count": 18,
   "metadata": {},
   "outputs": [
    {
     "name": "stdout",
     "output_type": "stream",
     "text": [
      "nice! you can use that name\n",
      "nice! you can use that name\n",
      "username already in use. Pick another please\n",
      "nice! you can use that name\n",
      "nice! you can use that name\n"
     ]
    }
   ],
   "source": [
    "#5-10\n",
    "\n",
    "current_users = [\"Mare\", \"Yell\", \"Privy\", \"user5555\", \"YankeesRock01\"]\n",
    "new_users = [\"Dave\", \"FreshPasta\", \"user5555\", \"foo\", \"bar\"]\n",
    "for user in current_users:\n",
    "    user.lower()\n",
    "for user in new_users:\n",
    "    user.lower()\n",
    "for user in new_users:\n",
    "    if user in current_users:\n",
    "        print(\"username already in use. Pick another please\")\n",
    "    else:\n",
    "        print(\"nice! you can use that name\")\n",
    "\n"
   ]
  }
 ],
 "metadata": {
  "interpreter": {
   "hash": "aee8b7b246df8f9039afb4144a1f6fd8d2ca17a180786b69acc140d282b71a49"
  },
  "kernelspec": {
   "display_name": "Python 3.9.5 64-bit",
   "language": "python",
   "name": "python3"
  },
  "language_info": {
   "codemirror_mode": {
    "name": "ipython",
    "version": 3
   },
   "file_extension": ".py",
   "mimetype": "text/x-python",
   "name": "python",
   "nbconvert_exporter": "python",
   "pygments_lexer": "ipython3",
   "version": "3.9.5"
  },
  "orig_nbformat": 4
 },
 "nbformat": 4,
 "nbformat_minor": 2
}
