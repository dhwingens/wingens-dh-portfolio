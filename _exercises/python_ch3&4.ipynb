{
 "cells": [
  {
   "cell_type": "code",
   "execution_count": 3,
   "metadata": {},
   "outputs": [
    {
     "name": "stdout",
     "output_type": "stream",
     "text": [
      "Jonah\n",
      "Mariel\n",
      "Matthew\n",
      "Hello, Jonah\n",
      "Hello, Mariel\n",
      "Hello, Matthew\n"
     ]
    }
   ],
   "source": [
    "#3-1, 3-2, 3-3, 3-4, 3-5, 3-6, 3-7, 3-8, 4-1, 4-2, 4-3, 4-6, 4-10, 4-11 \n",
    "\n",
    "#3-1\n",
    "\n",
    "names = ['Jonah', 'Mariel', 'Matthew']\n",
    "\n",
    "print(names[0])\n",
    "print(names[1])\n",
    "print(names[2])\n",
    "\n",
    "#3-2\n",
    "\n",
    "for name in names:\n",
    "    print(f'Hello, {name}')\n"
   ]
  },
  {
   "cell_type": "code",
   "execution_count": 4,
   "metadata": {},
   "outputs": [
    {
     "name": "stdout",
     "output_type": "stream",
     "text": [
      "I like to take Mazda3\n",
      "I like to take Amtrak\n",
      "I like to take Citi Bike\n"
     ]
    }
   ],
   "source": [
    "#3-3\n",
    "modes_of_transportation = ['Mazda3', 'Amtrak', 'Citi Bike']\n",
    "\n",
    "for mode in modes_of_transportation:\n",
    "    print(f'I like to take {mode}')\n"
   ]
  },
  {
   "cell_type": "code",
   "execution_count": 11,
   "metadata": {},
   "outputs": [
    {
     "name": "stdout",
     "output_type": "stream",
     "text": [
      "Please come to my dinner, Isaac Newton\n",
      "Please come to my dinner, Albert Einstein\n",
      "Please come to my dinner, Moses\n",
      "Please come to my dinner, Beyonce\n",
      "Please come to my dinner, Isaac Newton\n",
      "Please come to my dinner, Albert Einstein\n",
      "Please come to my dinner, Marie Curie\n"
     ]
    }
   ],
   "source": [
    "#3-4\n",
    "guests = ['Isaac Newton', 'Albert Einstein', 'Moses']\n",
    "\n",
    "for guest in guests:\n",
    "    print(f'Please come to my dinner, {guest}')\n",
    "\n",
    "#3-5\n",
    "guests[2] = 'Marie Curie'\n",
    "\n",
    "for guest in guests:\n",
    "    print(f'Please come to my dinner, {guest}')\n",
    "\n"
   ]
  },
  {
   "cell_type": "code",
   "execution_count": 12,
   "metadata": {},
   "outputs": [
    {
     "name": "stdout",
     "output_type": "stream",
     "text": [
      "Please come to my dinner, Beyonce\n",
      "Please come to my dinner, Isaac Newton\n",
      "Please come to my dinner, Meghan Thee Stallion\n",
      "Please come to my dinner, Albert Einstein\n",
      "Please come to my dinner, Moses\n",
      "Please come to my dinner, Bruno Mars\n"
     ]
    }
   ],
   "source": [
    "#3-6\n",
    "guests = ['Isaac Newton', 'Albert Einstein', 'Moses']\n",
    "\n",
    "guests.insert(0, 'Beyonce')\n",
    "guests.insert(2, 'Meghan Thee Stallion')\n",
    "guests.append('Bruno Mars')\n",
    "\n",
    "print('My table has expanded!')\n",
    "\n",
    "for guest in guests:\n",
    "    print(f'Please come to my dinner, {guest}')"
   ]
  },
  {
   "cell_type": "code",
   "execution_count": 14,
   "metadata": {},
   "outputs": [
    {
     "name": "stdout",
     "output_type": "stream",
     "text": [
      "I only have room for two guests :(\n",
      "Please come to my dinner, Beyonce\n",
      "Please come to my dinner, Isaac Newton\n"
     ]
    }
   ],
   "source": [
    "#3-7\n",
    "print('I only have room for two guests :(')\n",
    "\n",
    "while len(guests) > 2:\n",
    "    guests.pop()\n",
    "\n",
    "for guest in guests:\n",
    "    print(f'Please come to my dinner, {guest}')"
   ]
  },
  {
   "cell_type": "code",
   "execution_count": 21,
   "metadata": {},
   "outputs": [
    {
     "name": "stdout",
     "output_type": "stream",
     "text": [
      "['Paris', 'Australia', 'Vienna', 'Cairo', 'Lagos']\n",
      "['Australia', 'Cairo', 'Lagos', 'Paris', 'Vienna']\n",
      "['Paris', 'Australia', 'Vienna', 'Cairo', 'Lagos']\n",
      "['Lagos', 'Cairo', 'Vienna', 'Australia', 'Paris']\n",
      "['Paris', 'Australia', 'Vienna', 'Cairo', 'Lagos']\n",
      "['Australia', 'Cairo', 'Lagos', 'Paris', 'Vienna']\n",
      "['Vienna', 'Paris', 'Lagos', 'Cairo', 'Australia']\n"
     ]
    }
   ],
   "source": [
    "#3-8\n",
    "destinations = ['Paris', 'Australia', 'Vienna', 'Cairo', 'Lagos']\n",
    "print(destinations)\n",
    "\n",
    "print(sorted(destinations))\n",
    "\n",
    "print(destinations) #showing that the list has not been changed\n",
    "\n",
    "destinations.reverse()\n",
    "print(destinations)\n",
    "\n",
    "destinations.reverse() #putting the list back in original order\n",
    "print(destinations)\n",
    "\n",
    "destinations.sort() #alphabetize\n",
    "print(destinations)\n",
    "\n",
    "destinations.sort(reverse=True) #reverse alphabetize\n",
    "print(destinations)\n"
   ]
  },
  {
   "cell_type": "code",
   "execution_count": 24,
   "metadata": {},
   "outputs": [
    {
     "name": "stdout",
     "output_type": "stream",
     "text": [
      "cheese pizza is epic.\n",
      "pineapple pizza is epic.\n",
      "white pizza is epic.\n",
      "All pizza is epic!\n"
     ]
    }
   ],
   "source": [
    "##4-1, 4-2, 4-3, 4-6, 4-10, 4-11 \n",
    "#4-1\n",
    "\n",
    "pizzas = ['cheese', 'pineapple', 'white']\n",
    "\n",
    "for pizza in pizzas:\n",
    "    print(f'{pizza} pizza is epic.')\n",
    "\n",
    "print('All pizza is epic!')"
   ]
  },
  {
   "cell_type": "code",
   "execution_count": 25,
   "metadata": {},
   "outputs": [
    {
     "name": "stdout",
     "output_type": "stream",
     "text": [
      "wolves have four legs\n",
      "sheep have four legs\n",
      "cats have four legs\n",
      "all these animals have four legs\n"
     ]
    }
   ],
   "source": [
    "#4-2\n",
    "animals = ['wolves', 'sheep', 'cats']\n",
    "\n",
    "for animal in animals:\n",
    "    print(f'{animal} have four legs')\n",
    "\n",
    "print('all these animals have four legs')\n"
   ]
  },
  {
   "cell_type": "code",
   "execution_count": 28,
   "metadata": {},
   "outputs": [
    {
     "name": "stdout",
     "output_type": "stream",
     "text": [
      "1\n",
      "2\n",
      "3\n",
      "4\n",
      "5\n",
      "6\n",
      "7\n",
      "8\n",
      "9\n",
      "10\n",
      "11\n",
      "12\n",
      "13\n",
      "14\n",
      "15\n",
      "16\n",
      "17\n",
      "18\n",
      "19\n",
      "20\n"
     ]
    }
   ],
   "source": [
    "#4-3\n",
    "\n",
    "for i in range(1,21):\n",
    "    print(i)"
   ]
  },
  {
   "cell_type": "code",
   "execution_count": 29,
   "metadata": {},
   "outputs": [
    {
     "name": "stdout",
     "output_type": "stream",
     "text": [
      "1\n",
      "3\n",
      "5\n",
      "7\n",
      "9\n",
      "11\n",
      "13\n",
      "15\n",
      "17\n",
      "19\n"
     ]
    }
   ],
   "source": [
    "#4-6\n",
    "\n",
    "for i in range(1,21,2):\n",
    "    print(i)"
   ]
  },
  {
   "cell_type": "code",
   "execution_count": 35,
   "metadata": {},
   "outputs": [
    {
     "name": "stdout",
     "output_type": "stream",
     "text": [
      "The first three items in the list are ['wolves', 'sheep', 'cats']\n",
      "The first three items in the list are ['cats', 'dogs', 'mice']\n",
      "The first three items in the list are ['dogs', 'mice', 'hippos']\n"
     ]
    }
   ],
   "source": [
    "#4-10\n",
    "animals = ['wolves', 'sheep', 'cats', 'dogs', 'mice', 'hippos']\n",
    "\n",
    "print(f'The first three items in the list are {animals[:3]}')\n",
    "print(f'The first three items in the list are {animals[2:5]}')\n",
    "print(f'The first three items in the list are {animals[-3:]}')\n",
    "\n"
   ]
  },
  {
   "cell_type": "code",
   "execution_count": 41,
   "metadata": {},
   "outputs": [
    {
     "name": "stdout",
     "output_type": "stream",
     "text": [
      "My favorite pizzas are: cheese pineapple white \n",
      "My friend's favorite pizzas are: cheese pineapple white margharita "
     ]
    }
   ],
   "source": [
    "#4-11\n",
    "pizzas = ['cheese', 'pineapple', 'white']\n",
    "friend_pizzas = ['cheese', 'pineapple', 'white']\n",
    "\n",
    "friend_pizzas.append('margharita')\n",
    "\n",
    "print('My favorite pizzas are: ', end='')\n",
    "for pizza in pizzas:\n",
    "    print(pizza, end=' ')\n",
    "\n",
    "print(\"\\nMy friend's favorite pizzas are: \", end='')\n",
    "for pizza in friend_pizzas:\n",
    "    print(pizza, end=' ')"
   ]
  }
 ],
 "metadata": {
  "interpreter": {
   "hash": "aee8b7b246df8f9039afb4144a1f6fd8d2ca17a180786b69acc140d282b71a49"
  },
  "kernelspec": {
   "display_name": "Python 3.9.5 64-bit",
   "language": "python",
   "name": "python3"
  },
  "language_info": {
   "codemirror_mode": {
    "name": "ipython",
    "version": 3
   },
   "file_extension": ".py",
   "mimetype": "text/x-python",
   "name": "python",
   "nbconvert_exporter": "python",
   "pygments_lexer": "ipython3",
   "version": "3.9.5"
  },
  "orig_nbformat": 4
 },
 "nbformat": 4,
 "nbformat_minor": 2
}
