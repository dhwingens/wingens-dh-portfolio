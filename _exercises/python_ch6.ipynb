{
 "cells": [
  {
   "cell_type": "code",
   "execution_count": 1,
   "metadata": {},
   "outputs": [
    {
     "name": "stdout",
     "output_type": "stream",
     "text": [
      "{'first_name': 'Zoe', 'last_name': 'Belluck', 'age': 22, 'city': 'Boston'}\n"
     ]
    }
   ],
   "source": [
    "#6-1, 6-2, 6-3, 6-4, 6-5, 6-7, 6-8, 6-9, 6-11\n",
    "#6-1\n",
    "person = {'first_name':'Zoe', 'last_name':'Belluck', 'age':22, 'city':'Boston'}\n",
    "\n",
    "print(person)"
   ]
  },
  {
   "cell_type": "code",
   "execution_count": 2,
   "metadata": {},
   "outputs": [
    {
     "name": "stdout",
     "output_type": "stream",
     "text": [
      "{'Mariel': 18, 'Sofia': 9, 'Zoe': 29, 'David': 6, 'Aaron': 99}\n"
     ]
    }
   ],
   "source": [
    "#6-2\n",
    "fav_nums= {\n",
    "    'Mariel':18,\n",
    "    'Sofia':9,\n",
    "    'Zoe':29,\n",
    "    'David':6,\n",
    "    'Aaron':99\n",
    "}\n",
    "print(fav_nums)\n"
   ]
  },
  {
   "cell_type": "code",
   "execution_count": 3,
   "metadata": {},
   "outputs": [
    {
     "name": "stdout",
     "output_type": "stream",
     "text": [
      "boolean: A type of variable that true or false value\n",
      "list: A Python data type used to store multiple values in one variable\n",
      "integer: A primitive type in programming languages that can take the value of a whole number\n",
      "string: A data type made up of multiple characters such as a word or sentence\n",
      "for loop: The way to repeat a block of code iteratively\n"
     ]
    }
   ],
   "source": [
    "#6-3\n",
    "glossary = {\n",
    "    'boolean':'A type of variable that true or false value',\n",
    "    'list':'A Python data type used to store multiple values in one variable',\n",
    "    'integer':'A primitive type in programming languages that can take the value of a whole number',\n",
    "    'string':'A data type made up of multiple characters such as a word or sentence',\n",
    "    'for loop':'The way to repeat a block of code iteratively'\n",
    "}\n",
    "\n",
    "for word, definition in glossary.items():\n",
    "    print(f'{word}: {definition}')"
   ]
  },
  {
   "cell_type": "code",
   "execution_count": 9,
   "metadata": {},
   "outputs": [
    {
     "name": "stdout",
     "output_type": "stream",
     "text": [
      "boolean: A type of variable that true or false value\n",
      "list: A Python data type used to store multiple values in one variable\n",
      "integer: A primitive type in programming languages that can take the value of a whole number\n",
      "string: A data type made up of multiple characters such as a word or sentence\n",
      "for loop: The way to repeat a block of code iteratively\n",
      "if statement: checks Boolean value, if True, then executes codeblock\n",
      "equality operator: checks that both sides are exactly the same and returns a boolean\n",
      "assignment operator: one equals sign. assigns value from RHS to LHS\n",
      "method: A function built into a class such as .lower() for strings\n",
      "set: Similar to a list, but each value must be unique\n"
     ]
    }
   ],
   "source": [
    "#6-4\n",
    "glossary['if statement'] = 'checks Boolean value, if True, then executes codeblock'\n",
    "glossary['equality operator'] = 'checks that both sides are exactly the same and returns a boolean'\n",
    "glossary['assignment operator'] = 'one equals sign. assigns value from RHS to LHS'\n",
    "glossary['method'] = 'A function built into a class such as .lower() for strings'\n",
    "glossary['set'] = 'Similar to a list, but each value must be unique'\n",
    "\n",
    "for word, definition in glossary.items():\n",
    "    print(f'{word}: {definition}')"
   ]
  },
  {
   "cell_type": "code",
   "execution_count": 8,
   "metadata": {},
   "outputs": [
    {
     "name": "stdout",
     "output_type": "stream",
     "text": [
      "the mississippi runs through america.\n",
      "the yangtze runs through china.\n",
      "the seine runs through france.\n",
      "mississippi\n",
      "yangtze\n",
      "seine\n",
      "america\n",
      "china\n",
      "france\n"
     ]
    }
   ],
   "source": [
    "#6-5\n",
    "rivers = {\n",
    "    'mississippi':'america',\n",
    "    'yangtze':'china',\n",
    "    'seine':'france'\n",
    "}\n",
    "\n",
    "for river,country in rivers.items():\n",
    "    print(f'the {river} runs through {country}.')\n",
    "\n",
    "for river,country in rivers.items():\n",
    "    print(river)\n",
    "\n",
    "for river,country in rivers.items():\n",
    "    print(country)"
   ]
  },
  {
   "cell_type": "code",
   "execution_count": 21,
   "metadata": {},
   "outputs": [
    {
     "name": "stdout",
     "output_type": "stream",
     "text": [
      "Name: Zoe Belluck \n",
      " Age:22 \n",
      " city: Boston\n",
      "Name: Josh Allen \n",
      " Age:26 \n",
      " city: Buffalo\n",
      "Name: Mike Evans \n",
      " Age:29 \n",
      " city: Tampa Bay\n"
     ]
    }
   ],
   "source": [
    "#6-7\n",
    "person1 = {'first_name':'Zoe', 'last_name':'Belluck', 'age':22, 'city':'Boston'}\n",
    "person2 = {'first_name':'Josh', 'last_name':'Allen', 'age':26, 'city':'Buffalo'}\n",
    "person3 = {'first_name':'Mike', 'last_name':'Evans', 'age':29, 'city':'Tampa Bay'}\n",
    "\n",
    "people = [person1, person2, person3]\n",
    "\n",
    "for person in people:\n",
    "    print(f\"Name: {person['first_name']} {person['last_name']} \\n Age:{person['age']} \\n city: {person['city']}\")"
   ]
  },
  {
   "cell_type": "code",
   "execution_count": 23,
   "metadata": {},
   "outputs": [
    {
     "name": "stdout",
     "output_type": "stream",
     "text": [
      "Animal: dog | Owner: Kate \n",
      "Animal: goldfish | Owner: Sam \n"
     ]
    }
   ],
   "source": [
    "#6-8\n",
    "\n",
    "Yogi = {'animal':'dog', 'owner':'Kate'}\n",
    "Fishy = {'animal':'goldfish', 'owner':'Sam'}\n",
    "\n",
    "pets = [Yogi, Fishy]\n",
    "\n",
    "for pet in pets:\n",
    "    print(f\"Animal: {pet['animal']} | Owner: {pet['owner']} \")"
   ]
  },
  {
   "cell_type": "code",
   "execution_count": 27,
   "metadata": {},
   "outputs": [
    {
     "name": "stdout",
     "output_type": "stream",
     "text": [
      "David likes home!\n",
      "Kate likes Paris!\n",
      "Sam likes the zoo!\n"
     ]
    }
   ],
   "source": [
    "#6-9\n",
    "favorite_places = {\n",
    "    'David':'home',\n",
    "    'Kate':'Paris',\n",
    "    'Sam':'the zoo'\n",
    "}\n",
    "\n",
    "for person, place in favorite_places.items():\n",
    "    print(f\"{person} likes {place}!\")"
   ]
  },
  {
   "cell_type": "code",
   "execution_count": 31,
   "metadata": {},
   "outputs": [
    {
     "name": "stdout",
     "output_type": "stream",
     "text": [
      "Somerville\n",
      "{'country': 'USA', 'population': 81000, 'fact': 'densest city in New England'}\n",
      "Brussels\n",
      "{'country': 'Belgium', 'population': 2000000000, 'fact': 'HQ of the EU'}\n",
      "Lima\n",
      "{'country': 'Peru', 'population': 11000000000, 'fact': 'capital of Peru'}\n"
     ]
    }
   ],
   "source": [
    "#6-11\n",
    "\n",
    "cities = {\n",
    "    'Somerville':{\n",
    "        'country':'USA',\n",
    "        'population':81000,\n",
    "        'fact':'densest city in New England'\n",
    "    },\n",
    "    'Brussels':{\n",
    "        'country':'Belgium',\n",
    "        'population':2000000000,\n",
    "        'fact':'HQ of the EU'        \n",
    "    },\n",
    "    'Lima':{\n",
    "        'country':'Peru',\n",
    "        'population':11000000000,\n",
    "        'fact':'capital of Peru'\n",
    "    }\n",
    "}\n",
    "\n",
    "for city, info in cities.items():\n",
    "    print(city)\n",
    "    print(info)"
   ]
  }
 ],
 "metadata": {
  "interpreter": {
   "hash": "aee8b7b246df8f9039afb4144a1f6fd8d2ca17a180786b69acc140d282b71a49"
  },
  "kernelspec": {
   "display_name": "Python 3.9.5 64-bit",
   "language": "python",
   "name": "python3"
  },
  "language_info": {
   "codemirror_mode": {
    "name": "ipython",
    "version": 3
   },
   "file_extension": ".py",
   "mimetype": "text/x-python",
   "name": "python",
   "nbconvert_exporter": "python",
   "pygments_lexer": "ipython3",
   "version": "3.9.5"
  },
  "orig_nbformat": 4
 },
 "nbformat": 4,
 "nbformat_minor": 2
}
